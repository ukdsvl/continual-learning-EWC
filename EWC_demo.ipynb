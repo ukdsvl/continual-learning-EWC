{
 "cells": [
  {
   "cell_type": "code",
   "execution_count": null,
   "id": "c63b6295-dc99-4bd9-9328-890d62c8f1c0",
   "metadata": {},
   "outputs": [],
   "source": [
    "### Code from https://github.com/ContinualAI/colab/blob/master/notebooks/intro_to_continual_learning.ipynb"
   ]
  },
  {
   "cell_type": "code",
   "execution_count": 1,
   "id": "5fffcbcd-fa2b-4fe6-8642-3936c56ab215",
   "metadata": {},
   "outputs": [],
   "source": [
    "# !git clone https://github.com/ContinualAI/colab.git continualai/colab"
   ]
  },
  {
   "cell_type": "code",
   "execution_count": 2,
   "id": "653d9a2e-708d-4bf8-893f-ab6c579361c7",
   "metadata": {},
   "outputs": [],
   "source": [
    "import torch\n",
    "import torch.nn as nn\n",
    "import torchvision.datasets as datasets\n",
    "import torchvision.transforms as transforms\n",
    "import torch.optim as optim\n",
    "import torch.nn.functional as F\n",
    "import numpy as np\n",
    "import matplotlib.pyplot as plt"
   ]
  },
  {
   "cell_type": "code",
   "execution_count": 10,
   "id": "9b129c0d-d873-4d5f-a027-9f739916e079",
   "metadata": {},
   "outputs": [],
   "source": [
    "# !pwd"
   ]
  },
  {
   "cell_type": "code",
   "execution_count": 5,
   "id": "0c396654-0499-48bb-967d-18e10a946e57",
   "metadata": {},
   "outputs": [
    {
     "name": "stdout",
     "output_type": "stream",
     "text": [
      "Downloading train-images-idx3-ubyte.gz...\n",
      "Downloading t10k-images-idx3-ubyte.gz...\n",
      "Downloading train-labels-idx1-ubyte.gz...\n",
      "Downloading t10k-labels-idx1-ubyte.gz...\n",
      "Download complete.\n",
      "Save complete.\n",
      "Downloading https://ossci-datasets.s3.amazonaws.com/mnist/train-images-idx3-ubyte.gz\n",
      "Downloading https://ossci-datasets.s3.amazonaws.com/mnist/train-images-idx3-ubyte.gz to data/mnist/MNIST/raw/train-images-idx3-ubyte.gz\n"
     ]
    },
    {
     "data": {
      "application/vnd.jupyter.widget-view+json": {
       "model_id": "d231d314cf5c47268ef4a316a02ad936",
       "version_major": 2,
       "version_minor": 0
      },
      "text/plain": [
       "  0%|          | 0/9912422 [00:00<?, ?it/s]"
      ]
     },
     "metadata": {},
     "output_type": "display_data"
    },
    {
     "name": "stdout",
     "output_type": "stream",
     "text": [
      "Extracting data/mnist/MNIST/raw/train-images-idx3-ubyte.gz to data/mnist/MNIST/raw\n",
      "\n",
      "Downloading https://ossci-datasets.s3.amazonaws.com/mnist/train-labels-idx1-ubyte.gz\n",
      "Downloading https://ossci-datasets.s3.amazonaws.com/mnist/train-labels-idx1-ubyte.gz to data/mnist/MNIST/raw/train-labels-idx1-ubyte.gz\n"
     ]
    },
    {
     "data": {
      "application/vnd.jupyter.widget-view+json": {
       "model_id": "799805f22f25460693ec7257ec742e8f",
       "version_major": 2,
       "version_minor": 0
      },
      "text/plain": [
       "  0%|          | 0/28881 [00:00<?, ?it/s]"
      ]
     },
     "metadata": {},
     "output_type": "display_data"
    },
    {
     "name": "stdout",
     "output_type": "stream",
     "text": [
      "Extracting data/mnist/MNIST/raw/train-labels-idx1-ubyte.gz to data/mnist/MNIST/raw\n",
      "\n",
      "Downloading https://ossci-datasets.s3.amazonaws.com/mnist/t10k-images-idx3-ubyte.gz\n",
      "Downloading https://ossci-datasets.s3.amazonaws.com/mnist/t10k-images-idx3-ubyte.gz to data/mnist/MNIST/raw/t10k-images-idx3-ubyte.gz\n"
     ]
    },
    {
     "data": {
      "application/vnd.jupyter.widget-view+json": {
       "model_id": "b7f9d2f271f34fa999d02f71e0c320fc",
       "version_major": 2,
       "version_minor": 0
      },
      "text/plain": [
       "  0%|          | 0/1648877 [00:00<?, ?it/s]"
      ]
     },
     "metadata": {},
     "output_type": "display_data"
    },
    {
     "name": "stdout",
     "output_type": "stream",
     "text": [
      "Extracting data/mnist/MNIST/raw/t10k-images-idx3-ubyte.gz to data/mnist/MNIST/raw\n",
      "\n",
      "Downloading https://ossci-datasets.s3.amazonaws.com/mnist/t10k-labels-idx1-ubyte.gz\n",
      "Downloading https://ossci-datasets.s3.amazonaws.com/mnist/t10k-labels-idx1-ubyte.gz to data/mnist/MNIST/raw/t10k-labels-idx1-ubyte.gz\n"
     ]
    },
    {
     "data": {
      "application/vnd.jupyter.widget-view+json": {
       "model_id": "53950d6f995547fa8384be12202c8bd2",
       "version_major": 2,
       "version_minor": 0
      },
      "text/plain": [
       "  0%|          | 0/4542 [00:00<?, ?it/s]"
      ]
     },
     "metadata": {},
     "output_type": "display_data"
    },
    {
     "name": "stdout",
     "output_type": "stream",
     "text": [
      "Extracting data/mnist/MNIST/raw/t10k-labels-idx1-ubyte.gz to data/mnist/MNIST/raw\n",
      "\n"
     ]
    },
    {
     "name": "stderr",
     "output_type": "stream",
     "text": [
      "/miniconda/envs/det2/lib/python3.8/site-packages/torchvision/datasets/mnist.py:498: UserWarning: The given NumPy array is not writeable, and PyTorch does not support non-writeable tensors. This means you can write to the underlying (supposedly non-writeable) NumPy array using the tensor. You may want to copy the array to protect its data or make it writeable before converting it to a tensor. This type of warning will be suppressed for the rest of this program. (Triggered internally at  /opt/conda/conda-bld/pytorch_1623448234945/work/torch/csrc/utils/tensor_numpy.cpp:180.)\n",
      "  return torch.from_numpy(parsed.astype(m[2], copy=False)).view(*s)\n"
     ]
    }
   ],
   "source": [
    "from continualai.colab.scripts import mnist\n",
    "mnist.init()"
   ]
  },
  {
   "cell_type": "code",
   "execution_count": 6,
   "id": "deb695ff-5c00-4b37-bb02-2458f5c5b5aa",
   "metadata": {},
   "outputs": [
    {
     "name": "stdout",
     "output_type": "stream",
     "text": [
      "x_train dim and type:  (60000, 1, 28, 28) float32\n",
      "t_train dim and type:  (60000,) uint8\n",
      "x_test dim and type:  (10000, 1, 28, 28) float32\n",
      "t_test dim and type:  (10000,) uint8\n"
     ]
    }
   ],
   "source": [
    "x_train, t_train, x_test, t_test = mnist.load()\n",
    "\n",
    "print(\"x_train dim and type: \", x_train.shape, x_train.dtype)\n",
    "print(\"t_train dim and type: \", t_train.shape, t_train.dtype)\n",
    "print(\"x_test dim and type: \", x_test.shape, x_test.dtype)\n",
    "print(\"t_test dim and type: \", t_test.shape, t_test.dtype)"
   ]
  },
  {
   "cell_type": "code",
   "execution_count": 8,
   "id": "e8b58678-6eec-40cc-88cb-123097284161",
   "metadata": {},
   "outputs": [
    {
     "data": {
      "image/png": "[encoded data removed]",
      "text/plain": [
       "<Figure size 432x288 with 4 Axes>"
      ]
     },
     "metadata": {
      "needs_background": "light"
     },
     "output_type": "display_data"
    }
   ],
   "source": [
    "%matplotlib inline\n",
    "\n",
    "f, axarr = plt.subplots(2,2)\n",
    "axarr[0,0].imshow(x_train[1, 0], cmap=\"gray\")\n",
    "axarr[0,1].imshow(x_train[2, 0], cmap=\"gray\")\n",
    "axarr[1,0].imshow(x_train[3, 0], cmap=\"gray\")\n",
    "axarr[1,1].imshow(x_train[4, 0], cmap=\"gray\")\n",
    "np.vectorize(lambda ax:ax.axis('off'))(axarr);"
   ]
  },
  {
   "cell_type": "code",
   "execution_count": 9,
   "id": "b6c845e7-9cea-4214-84a0-488a9cb24063",
   "metadata": {},
   "outputs": [
    {
     "name": "stdout",
     "output_type": "stream",
     "text": [
      "cpu\n"
     ]
    },
    {
     "name": "stderr",
     "output_type": "stream",
     "text": [
      "/rapid_data/dsfashionshare/miniconda/envs/det2/lib/python3.8/site-packages/torch/cuda/__init__.py:52: UserWarning: CUDA initialization: The NVIDIA driver on your system is too old (found version 9010). Please update your GPU driver by downloading and installing a new version from the URL: http://www.nvidia.com/Download/index.aspx Alternatively, go to: https://pytorch.org to install a PyTorch version that has been compiled with your version of the CUDA driver. (Triggered internally at  /opt/conda/conda-bld/pytorch_1623448234945/work/c10/cuda/CUDAFunctions.cpp:115.)\n",
      "  return torch._C._cuda_getDeviceCount() > 0\n"
     ]
    }
   ],
   "source": [
    "device = torch.device(\"cuda:0\" if torch.cuda.is_available() else \"cpu\")\n",
    "print(device)"
   ]
  },
  {
   "cell_type": "code",
   "execution_count": 11,
   "id": "cb83be9d-0343-47b9-87ea-5a52bd3eb4e2",
   "metadata": {},
   "outputs": [
    {
     "data": {
      "text/plain": [
       "<torch._C.Generator at 0x7f55ac119b30>"
      ]
     },
     "execution_count": 11,
     "metadata": {},
     "output_type": "execute_result"
    }
   ],
   "source": [
    "torch.manual_seed(1)"
   ]
  },
  {
   "cell_type": "code",
   "execution_count": 12,
   "id": "ed8ce41e-b1ad-4ebe-bdfa-32995d3cf053",
   "metadata": {},
   "outputs": [],
   "source": [
    "class Net(nn.Module):\n",
    "    def __init__(self):\n",
    "        super(Net, self).__init__()\n",
    "        self.conv1 = nn.Conv2d(1, 10, kernel_size=5)\n",
    "        self.conv2 = nn.Conv2d(10, 20, kernel_size=5)\n",
    "        self.conv2_drop = nn.Dropout2d()\n",
    "        self.fc1 = nn.Linear(320, 50)\n",
    "        self.fc2 = nn.Linear(50, 10)\n",
    "\n",
    "    def forward(self, x):\n",
    "        x = F.relu(F.max_pool2d(self.conv1(x), 2))\n",
    "        x = F.relu(F.max_pool2d(self.conv2_drop(self.conv2(x)), 2))\n",
    "        x = x.view(-1, 320)\n",
    "        x = F.relu(self.fc1(x))\n",
    "        x = F.dropout(x, training=self.training)\n",
    "        x = self.fc2(x)\n",
    "        return x"
   ]
  },
  {
   "cell_type": "code",
   "execution_count": 13,
   "id": "4312d284-3b9f-400f-8bd9-b0a25faf265e",
   "metadata": {},
   "outputs": [],
   "source": [
    "def train(model, device, x_train, t_train, optimizer, epoch):\n",
    "    model.train()\n",
    "    \n",
    "    for start in range(0, len(t_train)-1, 256):\n",
    "        end = start + 256\n",
    "        x, y = torch.from_numpy(x_train[start:end]), torch.from_numpy(t_train[start:end]).long()\n",
    "        x, y = x.to(device), y.to(device)\n",
    "\n",
    "        optimizer.zero_grad()\n",
    "\n",
    "        output = model(x)\n",
    "        loss = F.cross_entropy(output, y)\n",
    "        loss.backward()\n",
    "        optimizer.step()\n",
    "        #print(loss.item())\n",
    "    print('Train Epoch: {} \\tLoss: {:.6f}'.format(epoch, loss.item()))\n",
    "\n",
    "def test(model, device, x_test, t_test):\n",
    "    model.eval()\n",
    "    test_loss = 0\n",
    "    correct = 0\n",
    "    for start in range(0, len(t_test)-1, 256):\n",
    "        end = start + 256\n",
    "        with torch.no_grad():\n",
    "            x, y = torch.from_numpy(x_test[start:end]), torch.from_numpy(t_test[start:end]).long()\n",
    "            x, y = x.to(device), y.to(device)\n",
    "            output = model(x)\n",
    "            test_loss += F.cross_entropy(output, y).item() # sum up batch loss\n",
    "            pred = output.max(1, keepdim=True)[1] # get the index of the max logit\n",
    "            correct += pred.eq(y.view_as(pred)).sum().item()\n",
    "\n",
    "    test_loss /= len(t_test)\n",
    "    print('Test set: Average loss: {:.4f}, Accuracy: {}/{} ({:.0f}%)\\n'.format(\n",
    "        test_loss, correct, len(t_test),\n",
    "        100. * correct / len(t_test)))\n",
    "    return 100. * correct / len(t_test)"
   ]
  },
  {
   "cell_type": "code",
   "execution_count": 14,
   "id": "ac963ee9-9eee-4962-9245-435cef139f14",
   "metadata": {},
   "outputs": [],
   "source": [
    "model = Net().to(device)\n",
    "optimizer = optim.SGD(model.parameters(), lr=0.01, momentum=0.9)"
   ]
  },
  {
   "cell_type": "code",
   "execution_count": 15,
   "id": "4d13efcb-8a51-47ca-8f7a-0dd49a41746a",
   "metadata": {},
   "outputs": [
    {
     "name": "stderr",
     "output_type": "stream",
     "text": [
      "/rapid_data/dsfashionshare/miniconda/envs/det2/lib/python3.8/site-packages/torch/nn/functional.py:718: UserWarning: Named tensors and all their associated APIs are an experimental feature and subject to change. Please do not use them for anything important until they are released as stable. (Triggered internally at  /opt/conda/conda-bld/pytorch_1623448234945/work/c10/core/TensorImpl.h:1156.)\n",
      "  return torch.max_pool2d(input, kernel_size, stride, padding, dilation, ceil_mode)\n"
     ]
    },
    {
     "name": "stdout",
     "output_type": "stream",
     "text": [
      "Train Epoch: 1 \tLoss: 0.650753\n",
      "Test set: Average loss: 0.0013, Accuracy: 9020/10000 (90%)\n",
      "\n",
      "Train Epoch: 2 \tLoss: 0.395812\n",
      "Test set: Average loss: 0.0007, Accuracy: 9428/10000 (94%)\n",
      "\n"
     ]
    }
   ],
   "source": [
    "for epoch in range(1, 3):\n",
    "    train(model, device, x_train, t_train, optimizer, epoch)\n",
    "    test(model, device, x_test, t_test)"
   ]
  },
  {
   "cell_type": "code",
   "execution_count": 16,
   "id": "d4192e7b-d0ca-4afa-ae29-60bb9aecc404",
   "metadata": {},
   "outputs": [],
   "source": [
    "def permute_mnist(mnist, seed):\n",
    "    \"\"\" Given the training set, permute pixels of each img the same way. \"\"\"\n",
    "\n",
    "    np.random.seed(seed)\n",
    "    print(\"starting permutation...\")\n",
    "    h = w = 28\n",
    "    perm_inds = list(range(h*w))\n",
    "    np.random.shuffle(perm_inds)\n",
    "    # print(perm_inds)\n",
    "    perm_mnist = []\n",
    "    for set in mnist:\n",
    "        num_img = set.shape[0]\n",
    "        flat_set = set.reshape(num_img, w * h)\n",
    "        perm_mnist.append(flat_set[:, perm_inds].reshape(num_img, 1, w, h))\n",
    "    print(\"done.\")\n",
    "    return perm_mnist"
   ]
  },
  {
   "cell_type": "code",
   "execution_count": 17,
   "id": "11111329-5781-4d4a-b66b-017957ed91e4",
   "metadata": {},
   "outputs": [
    {
     "name": "stdout",
     "output_type": "stream",
     "text": [
      "starting permutation...\n",
      "done.\n"
     ]
    }
   ],
   "source": [
    "x_train2, x_test2 = permute_mnist([x_train, x_test], 0)"
   ]
  },
  {
   "cell_type": "code",
   "execution_count": 18,
   "id": "36d74429-268f-4f27-aca7-ddfb7855e035",
   "metadata": {},
   "outputs": [
    {
     "data": {
      "image/png": "[encoded data removed]",
      "text/plain": [
       "<Figure size 432x288 with 2 Axes>"
      ]
     },
     "metadata": {
      "needs_background": "light"
     },
     "output_type": "display_data"
    }
   ],
   "source": [
    "f, axarr = plt.subplots(1,2)\n",
    "axarr[0].imshow(x_train[1, 0], cmap=\"gray\")\n",
    "axarr[1].imshow(x_train2[2, 0], cmap=\"gray\")\n",
    "np.vectorize(lambda ax:ax.axis('off'))(axarr);"
   ]
  },
  {
   "cell_type": "code",
   "execution_count": 19,
   "id": "0e161172-1874-49f2-b155-838329583816",
   "metadata": {},
   "outputs": [
    {
     "name": "stdout",
     "output_type": "stream",
     "text": [
      "Testing on the first task:\n",
      "Test set: Average loss: 0.0007, Accuracy: 9428/10000 (94%)\n",
      "\n",
      "Testing on the second task:\n",
      "Test set: Average loss: 0.0108, Accuracy: 1082/10000 (11%)\n",
      "\n"
     ]
    }
   ],
   "source": [
    "print(\"Testing on the first task:\")\n",
    "test(model, device, x_test, t_test)\n",
    "\n",
    "print(\"Testing on the second task:\")\n",
    "test(model, device, x_test2, t_test);"
   ]
  },
  {
   "cell_type": "code",
   "execution_count": 20,
   "id": "29ad97c5-2e68-4672-99f9-010548a5796f",
   "metadata": {},
   "outputs": [
    {
     "name": "stdout",
     "output_type": "stream",
     "text": [
      "Train Epoch: 1 \tLoss: 1.555232\n",
      "Test set: Average loss: 0.0032, Accuracy: 7408/10000 (74%)\n",
      "\n",
      "Train Epoch: 2 \tLoss: 1.229233\n",
      "Test set: Average loss: 0.0021, Accuracy: 8295/10000 (83%)\n",
      "\n"
     ]
    }
   ],
   "source": [
    "for epoch in range(1, 3):\n",
    "    train(model, device, x_train2, t_train, optimizer, epoch)\n",
    "    test(model, device, x_test2, t_test)"
   ]
  },
  {
   "cell_type": "code",
   "execution_count": 21,
   "id": "a2f93e06-15b9-4159-8f17-ab0d749ca3c3",
   "metadata": {},
   "outputs": [
    {
     "name": "stdout",
     "output_type": "stream",
     "text": [
      "Testing on the first task:\n",
      "Test set: Average loss: 0.0210, Accuracy: 2606/10000 (26%)\n",
      "\n",
      "Testing on the second task:\n",
      "Test set: Average loss: 0.0021, Accuracy: 8295/10000 (83%)\n",
      "\n"
     ]
    },
    {
     "data": {
      "text/plain": [
       "82.95"
      ]
     },
     "execution_count": 21,
     "metadata": {},
     "output_type": "execute_result"
    }
   ],
   "source": [
    "print(\"Testing on the first task:\")\n",
    "test(model, device, x_test, t_test)\n",
    "\n",
    "print(\"Testing on the second task:\")\n",
    "test(model, device, x_test2, t_test)"
   ]
  },
  {
   "cell_type": "code",
   "execution_count": 22,
   "id": "8a9f00c2-c3aa-4a93-8403-0eda18adc262",
   "metadata": {},
   "outputs": [
    {
     "name": "stdout",
     "output_type": "stream",
     "text": [
      "starting permutation...\n",
      "done.\n",
      "starting permutation...\n",
      "done.\n"
     ]
    }
   ],
   "source": [
    "### 3-tasks Permuted MNIST for continual learning evaluation\n",
    "\n",
    "# task 1\n",
    "task_1 = [(x_train, t_train), (x_test, t_test)]\n",
    "\n",
    "# task 2\n",
    "x_train2, x_test2 = permute_mnist([x_train, x_test], 1)\n",
    "task_2 = [(x_train2, t_train), (x_test2, t_test)]\n",
    "\n",
    "# task 3\n",
    "x_train3, x_test3 = permute_mnist([x_train, x_test], 2)\n",
    "task_3 = [(x_train3, t_train), (x_test3, t_test)]\n",
    "\n",
    "# task list\n",
    "tasks = [task_1, task_2, task_3]"
   ]
  },
  {
   "cell_type": "code",
   "execution_count": 23,
   "id": "1ed0798a-0660-4bed-ad83-79b54b9cf409",
   "metadata": {},
   "outputs": [],
   "source": [
    "### Elastic Weights Consolidation (EWC)\n",
    "\n",
    "# Computation of the importance of each weight (fisher information) and a squared regularization loss,\n",
    "# penalizing changes in the most important wheights for the previous tasks.\n",
    "\n",
    "# Does not use any of the previous tasks data!\n",
    "\n",
    "fisher_dict = {}\n",
    "optpar_dict = {}\n",
    "ewc_lambda = 0.4"
   ]
  },
  {
   "cell_type": "code",
   "execution_count": 24,
   "id": "b11e39bf-466b-41f1-981c-902ec488e340",
   "metadata": {},
   "outputs": [
    {
     "name": "stdout",
     "output_type": "stream",
     "text": [
      "Net(\n",
      "  (conv1): Conv2d(1, 10, kernel_size=(5, 5), stride=(1, 1))\n",
      "  (conv2): Conv2d(10, 20, kernel_size=(5, 5), stride=(1, 1))\n",
      "  (conv2_drop): Dropout2d(p=0.5, inplace=False)\n",
      "  (fc1): Linear(in_features=320, out_features=50, bias=True)\n",
      "  (fc2): Linear(in_features=50, out_features=10, bias=True)\n",
      ")\n",
      "SGD (\n",
      "Parameter Group 0\n",
      "    dampening: 0\n",
      "    lr: 0.01\n",
      "    momentum: 0.9\n",
      "    nesterov: False\n",
      "    weight_decay: 0\n",
      ")\n"
     ]
    }
   ],
   "source": [
    "model = Net().to(device)\n",
    "optimizer = optim.SGD(model.parameters(), lr=0.01, momentum=0.9)\n",
    "\n",
    "print(model)\n",
    "print(optimizer)"
   ]
  },
  {
   "cell_type": "code",
   "execution_count": 38,
   "id": "1e748f72-51b5-4f09-95c4-5ce9830269df",
   "metadata": {
    "tags": []
   },
   "outputs": [],
   "source": [
    "# ewc_accs = []\n",
    "# print(tasks[0][0][0].shape)\n",
    "\n",
    "# id=0\n",
    "# task=tasks[id]\n",
    "\n",
    "# avg_acc = 0\n",
    "# print(\"Training on task: \", id)\n",
    "\n",
    "# (x_train, t_train), _ = task\n",
    "\n",
    "# print(x_train.shape)\n",
    "\n",
    "# epoch=0\n",
    "\n",
    "# model.train()\n",
    "\n",
    "# start=0\n",
    "# end = start + 256\n",
    "# x, y = torch.from_numpy(x_train[start:end]), torch.from_numpy(t_train[start:end]).long()\n",
    "# x, y = x.to(device), y.to(device) ## is a mini-batch\n",
    "\n",
    "# print(x.size(),y.size())\n",
    "\n",
    "# optimizer.zero_grad()\n",
    "\n",
    "# output = model(x)\n",
    "# loss = F.cross_entropy(output, y)\n",
    "\n",
    "# print(loss)\n",
    "\n",
    "# task=0\n",
    "\n",
    "# for name, param in model.named_parameters():\n",
    "#     fisher = fisher_dict[task][name]\n",
    "#     optpar = optpar_dict[task][name]\n",
    "#     loss += (fisher * (optpar - param).pow(2)).sum() * ewc_lambda"
   ]
  },
  {
   "cell_type": "code",
   "execution_count": 39,
   "id": "a54e82bc-e8ae-45bc-8f16-7a9ace29b365",
   "metadata": {},
   "outputs": [],
   "source": [
    "def on_task_update(task_id, x_mem, t_mem):\n",
    "\n",
    "    model.train()\n",
    "    optimizer.zero_grad()\n",
    "\n",
    "    # accumulating gradients\n",
    "    for start in range(0, len(t_mem)-1, 256):\n",
    "        end = start + 256\n",
    "        x, y = torch.from_numpy(x_mem[start:end]), torch.from_numpy(t_mem[start:end]).long()\n",
    "        x, y = x.to(device), y.to(device)\n",
    "        output = model(x)\n",
    "        loss = F.cross_entropy(output, y)\n",
    "        loss.backward()\n",
    "\n",
    "    fisher_dict[task_id] = {}\n",
    "    optpar_dict[task_id] = {}\n",
    "\n",
    "    # gradients accumulated can be used to calculate fisher\n",
    "    for name, param in model.named_parameters():\n",
    "        optpar_dict[task_id][name] = param.data.clone()\n",
    "        fisher_dict[task_id][name] = param.grad.data.clone().pow(2)"
   ]
  },
  {
   "cell_type": "code",
   "execution_count": 40,
   "id": "e1d3c165-7d9e-4c0c-a77c-38f3378d3ea2",
   "metadata": {},
   "outputs": [],
   "source": [
    "def train_ewc(model, device, task_id, x_train, t_train, optimizer, epoch):\n",
    "    model.train()\n",
    "\n",
    "    for start in range(0, len(t_train)-1, 256):\n",
    "        end = start + 256\n",
    "        x, y = torch.from_numpy(x_train[start:end]), torch.from_numpy(t_train[start:end]).long()\n",
    "        x, y = x.to(device), y.to(device)\n",
    "\n",
    "        optimizer.zero_grad()\n",
    "\n",
    "        output = model(x)\n",
    "        loss = F.cross_entropy(output, y)\n",
    "\n",
    "        ### magic here! :-)\n",
    "        for task in range(task_id):\n",
    "            for name, param in model.named_parameters():\n",
    "                fisher = fisher_dict[task][name]\n",
    "                optpar = optpar_dict[task][name]\n",
    "                loss += (fisher * (optpar - param).pow(2)).sum() * ewc_lambda\n",
    "      \n",
    "        loss.backward()\n",
    "        optimizer.step()\n",
    "        #print(loss.item())\n",
    "    print('Train Epoch: {} \\tLoss: {:.6f}'.format(epoch, loss.item()))"
   ]
  },
  {
   "cell_type": "code",
   "execution_count": 41,
   "id": "d660d808-711e-430a-a5b4-6f545d04ecae",
   "metadata": {},
   "outputs": [
    {
     "name": "stdout",
     "output_type": "stream",
     "text": [
      "Training on task:  0\n",
      "Train Epoch: 1 \tLoss: 0.734618\n",
      "Train Epoch: 2 \tLoss: 0.695170\n",
      "Testing on task:  0\n",
      "Test set: Average loss: 0.0008, Accuracy: 9396/10000 (94%)\n",
      "\n",
      "Testing on task:  1\n",
      "Test set: Average loss: 0.0116, Accuracy: 591/10000 (6%)\n",
      "\n",
      "Testing on task:  2\n",
      "Test set: Average loss: 0.0102, Accuracy: 1204/10000 (12%)\n",
      "\n",
      "Avg acc:  37.303333333333335\n",
      "Training on task:  1\n",
      "Train Epoch: 1 \tLoss: 1.976301\n",
      "Train Epoch: 2 \tLoss: 1.596894\n",
      "Testing on task:  0\n",
      "Test set: Average loss: 0.0086, Accuracy: 4899/10000 (49%)\n",
      "\n",
      "Testing on task:  1\n",
      "Test set: Average loss: 0.0031, Accuracy: 7798/10000 (78%)\n",
      "\n",
      "Testing on task:  2\n",
      "Test set: Average loss: 0.0109, Accuracy: 1386/10000 (14%)\n",
      "\n",
      "Avg acc:  46.94333333333333\n",
      "Training on task:  2\n",
      "Train Epoch: 1 \tLoss: 2.066649\n",
      "Train Epoch: 2 \tLoss: 1.897922\n",
      "Testing on task:  0\n",
      "Test set: Average loss: 0.0064, Accuracy: 5657/10000 (57%)\n",
      "\n",
      "Testing on task:  1\n",
      "Test set: Average loss: 0.0078, Accuracy: 2832/10000 (28%)\n",
      "\n",
      "Testing on task:  2\n",
      "Test set: Average loss: 0.0040, Accuracy: 7338/10000 (73%)\n",
      "\n",
      "Avg acc:  52.75666666666666\n"
     ]
    }
   ],
   "source": [
    "ewc_accs = []\n",
    "for id, task in enumerate(tasks):\n",
    "    avg_acc = 0\n",
    "    print(\"Training on task: \", id)\n",
    "\n",
    "    (x_train, t_train), _ = task\n",
    "\n",
    "    for epoch in range(1, 3):\n",
    "        train_ewc(model, device, id, x_train, t_train, optimizer, epoch)\n",
    "    on_task_update(id, x_train, t_train)\n",
    "    \n",
    "    for id_test, task in enumerate(tasks):\n",
    "        print(\"Testing on task: \", id_test)\n",
    "        _, (x_test, t_test) = task\n",
    "        acc = test(model, device, x_test, t_test)\n",
    "        avg_acc = avg_acc + acc\n",
    "   \n",
    "    print(\"Avg acc: \", avg_acc / 3)\n",
    "    ewc_accs.append(avg_acc / 3)"
   ]
  },
  {
   "cell_type": "code",
   "execution_count": null,
   "id": "c13c2544-320f-4c78-b360-98b1011dca0c",
   "metadata": {},
   "outputs": [],
   "source": []
  },
  {
   "cell_type": "code",
   "execution_count": null,
   "id": "ea0e2a24-c950-4f12-8629-4a7b3ba1f497",
   "metadata": {},
   "outputs": [],
   "source": []
  }
 ],
 "metadata": {
  "kernelspec": {
   "display_name": "det2",
   "language": "python",
   "name": "det2"
  },
  "language_info": {
   "codemirror_mode": {
    "name": "ipython",
    "version": 3
   },
   "file_extension": ".py",
   "mimetype": "text/x-python",
   "name": "python",
   "nbconvert_exporter": "python",
   "pygments_lexer": "ipython3",
   "version": "3.8.11"
  }
 },
 "nbformat": 4,
 "nbformat_minor": 5
}
